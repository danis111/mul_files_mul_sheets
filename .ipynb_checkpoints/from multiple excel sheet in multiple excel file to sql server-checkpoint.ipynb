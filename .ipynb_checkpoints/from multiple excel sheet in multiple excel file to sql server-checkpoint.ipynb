{
 "cells": [
  {
   "cell_type": "code",
   "execution_count": 1,
   "id": "40087f86",
   "metadata": {},
   "outputs": [
    {
     "name": "stdout",
     "output_type": "stream",
     "text": [
      "2763 rows have been migrated successfully.... :)\n"
     ]
    }
   ],
   "source": [
    "import os\n",
    "import pandas as pd\n",
    "from sqlalchemy import create_engine, text\n",
    "\n",
    "Main_server_name1='DESKTOP-DRB7DGT\\danya'\n",
    "Main_DB='Data'\n",
    "user=''\n",
    "password=''\n",
    "source_engine = create_engine(\n",
    "                        f\"mssql+pyodbc://{user}:{password}@{Main_server_name1}/{Main_DB}?driver=ODBC+Driver+17+for+SQL+Server\",\n",
    "                        fast_executemany=True)\n",
    "directory = r'C:\\Users\\danis\\Desktop\\mul_files_mul_sheets'\n",
    "def excel_to_df(directory):\n",
    "    # Set the directory path where the Excel files are located\n",
    "    \n",
    "\n",
    "    # Create an empty dictionary to store the DataFrames\n",
    "    my_list = []\n",
    "\n",
    "    # Use a for loop to iterate through the files in the directory\n",
    "    for filename in os.listdir(directory):\n",
    "        # Check if the file is an Excel file\n",
    "        if filename.endswith('.xlsx') or filename.endswith('.xls'):\n",
    "            # Use pandas to read the Excel file and get the sheet names\n",
    "            xls = pd.ExcelFile(os.path.join(directory, filename))\n",
    "            sheet_names = xls.sheet_names\n",
    "\n",
    "            # Iterate through the sheet names\n",
    "            for sheet_name in sheet_names:\n",
    "                # Use pandas to read the sheet\n",
    "                df = pd.read_excel(os.path.join(directory, filename), sheet_name=sheet_name)\n",
    "                # Append the DataFrame to the dictionary with key as the sheet name and the dataframe as the value\n",
    "                my_list.append(df)\n",
    "\n",
    "\n",
    "\n",
    "    final_df = pd.concat(my_list, ignore_index=True)\n",
    "    return df_to_sql_server(final_df)\n",
    "\n",
    "def df_to_sql_server(x):\n",
    "    \n",
    "\n",
    "   \n",
    "    x.to_sql('sheet_product', source_engine, schema='production',if_exists='replace',index=False)\n",
    "    print(len(x),\"rows have been migrated successfully.... :)\")\n",
    "\n",
    "    \n",
    "    \n",
    "    \n",
    "excel_to_df(directory)    "
   ]
  },
  {
   "cell_type": "code",
   "execution_count": null,
   "id": "dc64dba7",
   "metadata": {},
   "outputs": [],
   "source": []
  }
 ],
 "metadata": {
  "kernelspec": {
   "display_name": "Python 3 (ipykernel)",
   "language": "python",
   "name": "python3"
  },
  "language_info": {
   "codemirror_mode": {
    "name": "ipython",
    "version": 3
   },
   "file_extension": ".py",
   "mimetype": "text/x-python",
   "name": "python",
   "nbconvert_exporter": "python",
   "pygments_lexer": "ipython3",
   "version": "3.10.1"
  }
 },
 "nbformat": 4,
 "nbformat_minor": 5
}
